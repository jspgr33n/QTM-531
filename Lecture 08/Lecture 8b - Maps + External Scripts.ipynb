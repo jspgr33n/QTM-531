{
 "cells": [
  {
   "cell_type": "markdown",
   "source": [
    "# <span style=\"color:darkblue\"> Lecture 8b: Map </span>\n",
    "\n",
    "<font size = \"5\">\n",
    "\n",
    "In the previous lecture we ...\n",
    "\n",
    "- Worked through the definition of functions\n",
    "- Illustrated some examples\n",
    "\n",
    "In this lecture, we will ...\n",
    "\n",
    "- Discuss the syntax of functions (local/global)\n",
    "- Apply functions to multiple elements in a data frame\n",
    "- Introduce \".py\" files"
   ],
   "metadata": {},
   "attachments": {}
  },
  {
   "cell_type": "markdown",
   "source": [
    "## <span style=\"color:darkblue\"> I. Import Libraries </span>"
   ],
   "metadata": {},
   "attachments": {}
  },
  {
   "cell_type": "code",
   "execution_count": 75,
   "source": [
    "# the \"pandas\" library is for manipualting datasets\n",
    "\n",
    "import pandas as pd\n",
    "import numpy as np\n"
   ],
   "outputs": [],
   "metadata": {}
  },
  {
   "cell_type": "markdown",
   "source": [
    "## <span style=\"color:darkblue\"> II. Operations over data frames (map) </span>\n"
   ],
   "metadata": {},
   "attachments": {}
  },
  {
   "cell_type": "markdown",
   "source": [
    "<font size = \"5\">\n",
    "\n",
    "Create an empty data frame"
   ],
   "metadata": {},
   "attachments": {}
  },
  {
   "cell_type": "code",
   "execution_count": 76,
   "source": [
    "data  = pd.DataFrame()"
   ],
   "outputs": [],
   "metadata": {}
  },
  {
   "cell_type": "code",
   "execution_count": 77,
   "source": [
    "print(data)"
   ],
   "outputs": [
    {
     "output_type": "stream",
     "name": "stdout",
     "text": [
      "Empty DataFrame\n",
      "Columns: []\n",
      "Index: []\n"
     ]
    }
   ],
   "metadata": {}
  },
  {
   "cell_type": "markdown",
   "source": [
    "<font size = \"5\">\n",
    "\n",
    "Add variables"
   ],
   "metadata": {},
   "attachments": {}
  },
  {
   "cell_type": "code",
   "execution_count": 78,
   "source": [
    "# The following are lists with values for different individuals\n",
    "# \"age\" is the number of years\n",
    "# \"num_underage_siblings\" is the total number of underage siblings\n",
    "# \"num_adult_siblings\" is the total number of adult siblings\n",
    "\n",
    "data[\"age\"] = [18,29,15,32,6]\n",
    "data[\"num_underage_siblings\"] = [0,0,1,1,0]\n",
    "data[\"num_adult_siblings\"] = [1,0,0,1,0]\n"
   ],
   "outputs": [],
   "metadata": {}
  },
  {
   "cell_type": "code",
   "execution_count": 79,
   "source": [
    "data"
   ],
   "outputs": [
    {
     "output_type": "execute_result",
     "data": {
      "text/html": [
       "<div>\n",
       "<style scoped>\n",
       "    .dataframe tbody tr th:only-of-type {\n",
       "        vertical-align: middle;\n",
       "    }\n",
       "\n",
       "    .dataframe tbody tr th {\n",
       "        vertical-align: top;\n",
       "    }\n",
       "\n",
       "    .dataframe thead th {\n",
       "        text-align: right;\n",
       "    }\n",
       "</style>\n",
       "<table border=\"1\" class=\"dataframe\">\n",
       "  <thead>\n",
       "    <tr style=\"text-align: right;\">\n",
       "      <th></th>\n",
       "      <th>age</th>\n",
       "      <th>num_underage_siblings</th>\n",
       "      <th>num_adult_siblings</th>\n",
       "    </tr>\n",
       "  </thead>\n",
       "  <tbody>\n",
       "    <tr>\n",
       "      <th>0</th>\n",
       "      <td>18</td>\n",
       "      <td>0</td>\n",
       "      <td>1</td>\n",
       "    </tr>\n",
       "    <tr>\n",
       "      <th>1</th>\n",
       "      <td>29</td>\n",
       "      <td>0</td>\n",
       "      <td>0</td>\n",
       "    </tr>\n",
       "    <tr>\n",
       "      <th>2</th>\n",
       "      <td>15</td>\n",
       "      <td>1</td>\n",
       "      <td>0</td>\n",
       "    </tr>\n",
       "    <tr>\n",
       "      <th>3</th>\n",
       "      <td>32</td>\n",
       "      <td>1</td>\n",
       "      <td>1</td>\n",
       "    </tr>\n",
       "    <tr>\n",
       "      <th>4</th>\n",
       "      <td>6</td>\n",
       "      <td>0</td>\n",
       "      <td>0</td>\n",
       "    </tr>\n",
       "  </tbody>\n",
       "</table>\n",
       "</div>"
      ],
      "text/plain": [
       "   age  num_underage_siblings  num_adult_siblings\n",
       "0   18                      0                   1\n",
       "1   29                      0                   0\n",
       "2   15                      1                   0\n",
       "3   32                      1                   1\n",
       "4    6                      0                   0"
      ]
     },
     "metadata": {},
     "execution_count": 79
    }
   ],
   "metadata": {}
  },
  {
   "cell_type": "markdown",
   "source": [
    "<font size = \"5\">\n",
    "\n",
    "Define functions"
   ],
   "metadata": {},
   "attachments": {}
  },
  {
   "cell_type": "code",
   "execution_count": 80,
   "source": [
    "# The first two functions return True/False depending on age constraints\n",
    "# The third function returns the sum of two numbers\n",
    "# The fourt function returns a string with the age bracket\n",
    "\n",
    "fn_iseligible_vote = lambda age: age >= 18\n",
    "\n",
    "fn_istwenties = lambda age: (age >= 20) & (age < 30)\n",
    "\n",
    "fn_sum = lambda x,y: x + y\n",
    "\n",
    "def fn_agebracket(age):\n",
    "    if (age >= 18):\n",
    "        status = \"Adult\"\n",
    "    elif (age >= 10) & (age < 18):\n",
    "        status = \"Adolescent\"\n",
    "    else:\n",
    "        status = \"Child\"\n",
    "    return(status)\n"
   ],
   "outputs": [],
   "metadata": {}
  },
  {
   "cell_type": "markdown",
   "source": [
    "<font size = \"5\">\n",
    "Applying functions with one argument: <br>\n",
    "\n",
    "```python\n",
    " apply(myfunction)\n",
    " ```\n",
    " - Takes a dataframe series (a column vector) as an input\n",
    " - Computes function separately for each individual\n"
   ],
   "metadata": {},
   "attachments": {}
  },
  {
   "cell_type": "code",
   "execution_count": 81,
   "source": [
    "# The fucntion \"apply\" will extract each element and return the function value\n",
    "# It is similar to running a \"for-loop\" over each element\n",
    "\n",
    "data[\"can_vote\"]    = data[\"age\"].apply(fn_iseligible_vote)\n",
    "data[\"in_twenties\"] = data[\"age\"].apply(fn_istwenties)\n",
    "data[\"age_bracket\"] = data[\"age\"].apply(fn_agebracket)\n",
    "\n",
    "\n",
    "# NOTE: The following code also works:\n",
    "# data[\"can_vote\"]    = data[\"age\"].apply(lambda age: age >= 18)\n",
    "# data[\"in_twenties\"] = data[\"age\"].apply(lambda age: (age >= 20) & (age < 30))\n",
    "\n",
    "display(data)\n"
   ],
   "outputs": [
    {
     "output_type": "display_data",
     "data": {
      "text/html": [
       "<div>\n",
       "<style scoped>\n",
       "    .dataframe tbody tr th:only-of-type {\n",
       "        vertical-align: middle;\n",
       "    }\n",
       "\n",
       "    .dataframe tbody tr th {\n",
       "        vertical-align: top;\n",
       "    }\n",
       "\n",
       "    .dataframe thead th {\n",
       "        text-align: right;\n",
       "    }\n",
       "</style>\n",
       "<table border=\"1\" class=\"dataframe\">\n",
       "  <thead>\n",
       "    <tr style=\"text-align: right;\">\n",
       "      <th></th>\n",
       "      <th>age</th>\n",
       "      <th>num_underage_siblings</th>\n",
       "      <th>num_adult_siblings</th>\n",
       "      <th>can_vote</th>\n",
       "      <th>in_twenties</th>\n",
       "      <th>age_bracket</th>\n",
       "    </tr>\n",
       "  </thead>\n",
       "  <tbody>\n",
       "    <tr>\n",
       "      <th>0</th>\n",
       "      <td>18</td>\n",
       "      <td>0</td>\n",
       "      <td>1</td>\n",
       "      <td>True</td>\n",
       "      <td>False</td>\n",
       "      <td>Adult</td>\n",
       "    </tr>\n",
       "    <tr>\n",
       "      <th>1</th>\n",
       "      <td>29</td>\n",
       "      <td>0</td>\n",
       "      <td>0</td>\n",
       "      <td>True</td>\n",
       "      <td>True</td>\n",
       "      <td>Adult</td>\n",
       "    </tr>\n",
       "    <tr>\n",
       "      <th>2</th>\n",
       "      <td>15</td>\n",
       "      <td>1</td>\n",
       "      <td>0</td>\n",
       "      <td>False</td>\n",
       "      <td>False</td>\n",
       "      <td>Adolescent</td>\n",
       "    </tr>\n",
       "    <tr>\n",
       "      <th>3</th>\n",
       "      <td>32</td>\n",
       "      <td>1</td>\n",
       "      <td>1</td>\n",
       "      <td>True</td>\n",
       "      <td>False</td>\n",
       "      <td>Adult</td>\n",
       "    </tr>\n",
       "    <tr>\n",
       "      <th>4</th>\n",
       "      <td>6</td>\n",
       "      <td>0</td>\n",
       "      <td>0</td>\n",
       "      <td>False</td>\n",
       "      <td>False</td>\n",
       "      <td>Child</td>\n",
       "    </tr>\n",
       "  </tbody>\n",
       "</table>\n",
       "</div>"
      ],
      "text/plain": [
       "   age  num_underage_siblings  num_adult_siblings  can_vote  in_twenties  \\\n",
       "0   18                      0                   1      True        False   \n",
       "1   29                      0                   0      True         True   \n",
       "2   15                      1                   0     False        False   \n",
       "3   32                      1                   1      True        False   \n",
       "4    6                      0                   0     False        False   \n",
       "\n",
       "  age_bracket  \n",
       "0       Adult  \n",
       "1       Adult  \n",
       "2  Adolescent  \n",
       "3       Adult  \n",
       "4       Child  "
      ]
     },
     "metadata": {}
    }
   ],
   "metadata": {}
  },
  {
   "cell_type": "markdown",
   "source": [
    "<font size = \"5\">\n",
    "\n",
    "Creating a new variable"
   ],
   "metadata": {}
  },
  {
   "cell_type": "code",
   "execution_count": 82,
   "source": [
    "data['new_var'] = data['age'].apply(lambda age: age >= 18)\n",
    "data"
   ],
   "outputs": [
    {
     "output_type": "execute_result",
     "data": {
      "text/html": [
       "<div>\n",
       "<style scoped>\n",
       "    .dataframe tbody tr th:only-of-type {\n",
       "        vertical-align: middle;\n",
       "    }\n",
       "\n",
       "    .dataframe tbody tr th {\n",
       "        vertical-align: top;\n",
       "    }\n",
       "\n",
       "    .dataframe thead th {\n",
       "        text-align: right;\n",
       "    }\n",
       "</style>\n",
       "<table border=\"1\" class=\"dataframe\">\n",
       "  <thead>\n",
       "    <tr style=\"text-align: right;\">\n",
       "      <th></th>\n",
       "      <th>age</th>\n",
       "      <th>num_underage_siblings</th>\n",
       "      <th>num_adult_siblings</th>\n",
       "      <th>can_vote</th>\n",
       "      <th>in_twenties</th>\n",
       "      <th>age_bracket</th>\n",
       "      <th>new_var</th>\n",
       "    </tr>\n",
       "  </thead>\n",
       "  <tbody>\n",
       "    <tr>\n",
       "      <th>0</th>\n",
       "      <td>18</td>\n",
       "      <td>0</td>\n",
       "      <td>1</td>\n",
       "      <td>True</td>\n",
       "      <td>False</td>\n",
       "      <td>Adult</td>\n",
       "      <td>True</td>\n",
       "    </tr>\n",
       "    <tr>\n",
       "      <th>1</th>\n",
       "      <td>29</td>\n",
       "      <td>0</td>\n",
       "      <td>0</td>\n",
       "      <td>True</td>\n",
       "      <td>True</td>\n",
       "      <td>Adult</td>\n",
       "      <td>True</td>\n",
       "    </tr>\n",
       "    <tr>\n",
       "      <th>2</th>\n",
       "      <td>15</td>\n",
       "      <td>1</td>\n",
       "      <td>0</td>\n",
       "      <td>False</td>\n",
       "      <td>False</td>\n",
       "      <td>Adolescent</td>\n",
       "      <td>False</td>\n",
       "    </tr>\n",
       "    <tr>\n",
       "      <th>3</th>\n",
       "      <td>32</td>\n",
       "      <td>1</td>\n",
       "      <td>1</td>\n",
       "      <td>True</td>\n",
       "      <td>False</td>\n",
       "      <td>Adult</td>\n",
       "      <td>True</td>\n",
       "    </tr>\n",
       "    <tr>\n",
       "      <th>4</th>\n",
       "      <td>6</td>\n",
       "      <td>0</td>\n",
       "      <td>0</td>\n",
       "      <td>False</td>\n",
       "      <td>False</td>\n",
       "      <td>Child</td>\n",
       "      <td>False</td>\n",
       "    </tr>\n",
       "  </tbody>\n",
       "</table>\n",
       "</div>"
      ],
      "text/plain": [
       "   age  num_underage_siblings  num_adult_siblings  can_vote  in_twenties  \\\n",
       "0   18                      0                   1      True        False   \n",
       "1   29                      0                   0      True         True   \n",
       "2   15                      1                   0     False        False   \n",
       "3   32                      1                   1      True        False   \n",
       "4    6                      0                   0     False        False   \n",
       "\n",
       "  age_bracket  new_var  \n",
       "0       Adult     True  \n",
       "1       Adult     True  \n",
       "2  Adolescent    False  \n",
       "3       Adult     True  \n",
       "4       Child    False  "
      ]
     },
     "metadata": {},
     "execution_count": 82
    }
   ],
   "metadata": {}
  },
  {
   "cell_type": "markdown",
   "source": [
    "<font size = \"5\">\n",
    "\n",
    "Dropping an existing variable"
   ],
   "metadata": {}
  },
  {
   "cell_type": "code",
   "execution_count": 83,
   "source": [
    "data = data.drop(columns=['new_var'])\n",
    "data"
   ],
   "outputs": [
    {
     "output_type": "execute_result",
     "data": {
      "text/html": [
       "<div>\n",
       "<style scoped>\n",
       "    .dataframe tbody tr th:only-of-type {\n",
       "        vertical-align: middle;\n",
       "    }\n",
       "\n",
       "    .dataframe tbody tr th {\n",
       "        vertical-align: top;\n",
       "    }\n",
       "\n",
       "    .dataframe thead th {\n",
       "        text-align: right;\n",
       "    }\n",
       "</style>\n",
       "<table border=\"1\" class=\"dataframe\">\n",
       "  <thead>\n",
       "    <tr style=\"text-align: right;\">\n",
       "      <th></th>\n",
       "      <th>age</th>\n",
       "      <th>num_underage_siblings</th>\n",
       "      <th>num_adult_siblings</th>\n",
       "      <th>can_vote</th>\n",
       "      <th>in_twenties</th>\n",
       "      <th>age_bracket</th>\n",
       "    </tr>\n",
       "  </thead>\n",
       "  <tbody>\n",
       "    <tr>\n",
       "      <th>0</th>\n",
       "      <td>18</td>\n",
       "      <td>0</td>\n",
       "      <td>1</td>\n",
       "      <td>True</td>\n",
       "      <td>False</td>\n",
       "      <td>Adult</td>\n",
       "    </tr>\n",
       "    <tr>\n",
       "      <th>1</th>\n",
       "      <td>29</td>\n",
       "      <td>0</td>\n",
       "      <td>0</td>\n",
       "      <td>True</td>\n",
       "      <td>True</td>\n",
       "      <td>Adult</td>\n",
       "    </tr>\n",
       "    <tr>\n",
       "      <th>2</th>\n",
       "      <td>15</td>\n",
       "      <td>1</td>\n",
       "      <td>0</td>\n",
       "      <td>False</td>\n",
       "      <td>False</td>\n",
       "      <td>Adolescent</td>\n",
       "    </tr>\n",
       "    <tr>\n",
       "      <th>3</th>\n",
       "      <td>32</td>\n",
       "      <td>1</td>\n",
       "      <td>1</td>\n",
       "      <td>True</td>\n",
       "      <td>False</td>\n",
       "      <td>Adult</td>\n",
       "    </tr>\n",
       "    <tr>\n",
       "      <th>4</th>\n",
       "      <td>6</td>\n",
       "      <td>0</td>\n",
       "      <td>0</td>\n",
       "      <td>False</td>\n",
       "      <td>False</td>\n",
       "      <td>Child</td>\n",
       "    </tr>\n",
       "  </tbody>\n",
       "</table>\n",
       "</div>"
      ],
      "text/plain": [
       "   age  num_underage_siblings  num_adult_siblings  can_vote  in_twenties  \\\n",
       "0   18                      0                   1      True        False   \n",
       "1   29                      0                   0      True         True   \n",
       "2   15                      1                   0     False        False   \n",
       "3   32                      1                   1      True        False   \n",
       "4    6                      0                   0     False        False   \n",
       "\n",
       "  age_bracket  \n",
       "0       Adult  \n",
       "1       Adult  \n",
       "2  Adolescent  \n",
       "3       Adult  \n",
       "4       Child  "
      ]
     },
     "metadata": {},
     "execution_count": 83
    }
   ],
   "metadata": {}
  },
  {
   "cell_type": "markdown",
   "source": [
    "<font size = \"5\">\n",
    "\n",
    "Mapping functions with one or more arguments <br>\n",
    "\n",
    "**Definition:** The ```map()``` function executes a <br>\n",
    "specified function for each item in an iterable <br>\n",
    "(such as a list or an array). <br>\n",
    " The item is sent to the function as a parameter.\n",
    "\n",
    "```python\n",
    "list(map(myfunction, list1,list2, ....))\n",
    "```"
   ],
   "metadata": {},
   "attachments": {}
  },
  {
   "cell_type": "code",
   "execution_count": 84,
   "source": [
    "list(map(fn_iseligible_vote, data[\"age\"]))"
   ],
   "outputs": [
    {
     "output_type": "execute_result",
     "data": {
      "text/plain": [
       "[True, True, False, True, False]"
      ]
     },
     "metadata": {},
     "execution_count": 84
    }
   ],
   "metadata": {}
  },
  {
   "cell_type": "code",
   "execution_count": 85,
   "source": [
    "# Repeat the above example with map\n",
    "# We use list() to convert the output to a list\n",
    "# The first argument of map() is a function\n",
    "# The following arguments are the subarguments of the function\n",
    "\n",
    "data[\"can_vote_map\"] = list(map(fn_iseligible_vote, data[\"age\"]))"
   ],
   "outputs": [],
   "metadata": {}
  },
  {
   "cell_type": "code",
   "execution_count": 86,
   "source": [
    "# In this example, there are more than two arguments\n",
    "\n",
    "data[\"num_siblings\"] = list(map(fn_sum,\n",
    "                                data[\"num_underage_siblings\"],\n",
    "                                data[\"num_adult_siblings\"]))"
   ],
   "outputs": [],
   "metadata": {}
  },
  {
   "cell_type": "code",
   "execution_count": 87,
   "source": [
    "list(map(fn_sum, data[\"num_underage_siblings\"],\n",
    "         data[\"num_adult_siblings\"]))"
   ],
   "outputs": [
    {
     "output_type": "execute_result",
     "data": {
      "text/plain": [
       "[1, 0, 1, 2, 0]"
      ]
     },
     "metadata": {},
     "execution_count": 87
    }
   ],
   "metadata": {}
  },
  {
   "cell_type": "code",
   "execution_count": 88,
   "source": [
    "data[\"num_underage_siblings\"]"
   ],
   "outputs": [
    {
     "output_type": "execute_result",
     "data": {
      "text/plain": [
       "0    0\n",
       "1    0\n",
       "2    1\n",
       "3    1\n",
       "4    0\n",
       "Name: num_underage_siblings, dtype: int64"
      ]
     },
     "metadata": {},
     "execution_count": 88
    }
   ],
   "metadata": {}
  },
  {
   "cell_type": "code",
   "execution_count": 89,
   "source": [
    "data[\"num_adult_siblings\"]"
   ],
   "outputs": [
    {
     "output_type": "execute_result",
     "data": {
      "text/plain": [
       "0    1\n",
       "1    0\n",
       "2    0\n",
       "3    1\n",
       "4    0\n",
       "Name: num_adult_siblings, dtype: int64"
      ]
     },
     "metadata": {},
     "execution_count": 89
    }
   ],
   "metadata": {}
  },
  {
   "cell_type": "markdown",
   "source": [
    "<font size = \"5\">\n",
    "\n",
    "<span style=\"color:darkgreen\"> Recommended! </span>\n",
    "\n",
    "- Arguments can be split into multiple lines!\n",
    "- Start a separate line after a comma\n",
    "- Experts recommend each line has 80 characters or less"
   ],
   "metadata": {},
   "attachments": {}
  },
  {
   "cell_type": "code",
   "execution_count": 90,
   "source": [
    "data[\"num_siblings\"] = list(map(fn_sum,\n",
    "                                data[\"num_underage_siblings\"],\n",
    "                                data[\"num_adult_siblings\"]))"
   ],
   "outputs": [],
   "metadata": {}
  },
  {
   "cell_type": "markdown",
   "source": [
    "<font size = \"5\">\n",
    "\n",
    "Try it yourself!\n",
    "\n",
    "- Write a function checking whether num_siblings $\\ge$ 1\n",
    "- Add a variable to the dataset called \"has_siblings\"\n",
    "- Assign True/False to this variable using \"apply()\""
   ],
   "metadata": {},
   "attachments": {}
  },
  {
   "cell_type": "code",
   "execution_count": 91,
   "source": [
    "# Write your own code\n",
    "\n",
    "fn_num_siblings = lambda num_siblings: num_siblings >= 1\n",
    "\n",
    "data[\"has_siblings\"] = data[\"num_siblings\"].apply(fn_num_siblings)\n",
    "\n",
    "display(data)\n"
   ],
   "outputs": [
    {
     "output_type": "display_data",
     "data": {
      "text/html": [
       "<div>\n",
       "<style scoped>\n",
       "    .dataframe tbody tr th:only-of-type {\n",
       "        vertical-align: middle;\n",
       "    }\n",
       "\n",
       "    .dataframe tbody tr th {\n",
       "        vertical-align: top;\n",
       "    }\n",
       "\n",
       "    .dataframe thead th {\n",
       "        text-align: right;\n",
       "    }\n",
       "</style>\n",
       "<table border=\"1\" class=\"dataframe\">\n",
       "  <thead>\n",
       "    <tr style=\"text-align: right;\">\n",
       "      <th></th>\n",
       "      <th>age</th>\n",
       "      <th>num_underage_siblings</th>\n",
       "      <th>num_adult_siblings</th>\n",
       "      <th>can_vote</th>\n",
       "      <th>in_twenties</th>\n",
       "      <th>age_bracket</th>\n",
       "      <th>can_vote_map</th>\n",
       "      <th>num_siblings</th>\n",
       "      <th>has_siblings</th>\n",
       "    </tr>\n",
       "  </thead>\n",
       "  <tbody>\n",
       "    <tr>\n",
       "      <th>0</th>\n",
       "      <td>18</td>\n",
       "      <td>0</td>\n",
       "      <td>1</td>\n",
       "      <td>True</td>\n",
       "      <td>False</td>\n",
       "      <td>Adult</td>\n",
       "      <td>True</td>\n",
       "      <td>1</td>\n",
       "      <td>True</td>\n",
       "    </tr>\n",
       "    <tr>\n",
       "      <th>1</th>\n",
       "      <td>29</td>\n",
       "      <td>0</td>\n",
       "      <td>0</td>\n",
       "      <td>True</td>\n",
       "      <td>True</td>\n",
       "      <td>Adult</td>\n",
       "      <td>True</td>\n",
       "      <td>0</td>\n",
       "      <td>False</td>\n",
       "    </tr>\n",
       "    <tr>\n",
       "      <th>2</th>\n",
       "      <td>15</td>\n",
       "      <td>1</td>\n",
       "      <td>0</td>\n",
       "      <td>False</td>\n",
       "      <td>False</td>\n",
       "      <td>Adolescent</td>\n",
       "      <td>False</td>\n",
       "      <td>1</td>\n",
       "      <td>True</td>\n",
       "    </tr>\n",
       "    <tr>\n",
       "      <th>3</th>\n",
       "      <td>32</td>\n",
       "      <td>1</td>\n",
       "      <td>1</td>\n",
       "      <td>True</td>\n",
       "      <td>False</td>\n",
       "      <td>Adult</td>\n",
       "      <td>True</td>\n",
       "      <td>2</td>\n",
       "      <td>True</td>\n",
       "    </tr>\n",
       "    <tr>\n",
       "      <th>4</th>\n",
       "      <td>6</td>\n",
       "      <td>0</td>\n",
       "      <td>0</td>\n",
       "      <td>False</td>\n",
       "      <td>False</td>\n",
       "      <td>Child</td>\n",
       "      <td>False</td>\n",
       "      <td>0</td>\n",
       "      <td>False</td>\n",
       "    </tr>\n",
       "  </tbody>\n",
       "</table>\n",
       "</div>"
      ],
      "text/plain": [
       "   age  num_underage_siblings  num_adult_siblings  can_vote  in_twenties  \\\n",
       "0   18                      0                   1      True        False   \n",
       "1   29                      0                   0      True         True   \n",
       "2   15                      1                   0     False        False   \n",
       "3   32                      1                   1      True        False   \n",
       "4    6                      0                   0     False        False   \n",
       "\n",
       "  age_bracket  can_vote_map  num_siblings  has_siblings  \n",
       "0       Adult          True             1          True  \n",
       "1       Adult          True             0         False  \n",
       "2  Adolescent         False             1          True  \n",
       "3       Adult          True             2          True  \n",
       "4       Child         False             0         False  "
      ]
     },
     "metadata": {}
    }
   ],
   "metadata": {}
  },
  {
   "cell_type": "markdown",
   "source": [
    "<font size = \"5\">\n",
    "\n",
    "Try it yourself!\n",
    "\n",
    "- Read the car dataset \"data_raw/features.csv\"\n",
    "- Create a function that tests whether mpg $\\ge$ 29\n",
    "- Add a variable \"mpg_above_29\" which is True/False if mpg $\\ge$ 29\n",
    "- Store the new dataset to \"data_clean/features.csv\"\n"
   ],
   "metadata": {},
   "attachments": {}
  },
  {
   "cell_type": "code",
   "execution_count": 92,
   "source": [
    "# Write your own code\n",
    "\n",
    "\n",
    "\n",
    "\n"
   ],
   "outputs": [],
   "metadata": {}
  },
  {
   "cell_type": "markdown",
   "source": [
    "<font size = \"5\">\n",
    "\n",
    "Try it yourself!\n",
    "\n",
    "- Map can also be applied to simple lists!\n",
    "- Create a lambda function with arguments {fruit,color}.\n",
    "- The function returns the string <br>\n",
    "\" A {fruit} is {color}\"\n",
    "- Create the following two lists:\n",
    "\n",
    "``` list_fruits  = [\"banana\",\"strawberry\",\"kiwi\"] ```\n",
    "\n",
    "``` list_colors  = [\"yellow\",\"red\",\"green\"] ```\n",
    "- Use the list(map()) function to output a list with the form"
   ],
   "metadata": {},
   "attachments": {}
  },
  {
   "cell_type": "code",
   "execution_count": 93,
   "source": [
    "# Write your own code\n",
    "\n",
    "\n",
    "\n",
    "\n"
   ],
   "outputs": [],
   "metadata": {}
  },
  {
   "cell_type": "markdown",
   "source": [
    "## <span style=\"color:darkblue\"> III. External Scripts </span>"
   ],
   "metadata": {},
   "attachments": {}
  },
  {
   "cell_type": "markdown",
   "source": [
    "<font size = \"5\">\n",
    "\n",
    "\".ipynb\" files ...\n",
    "\n",
    "- Markdown + python code\n",
    "- Great for interactive output!\n",
    "\n",
    "\".py\" files ...\n",
    "\n",
    "- Python (only) script\n",
    "- Used for specific tasks\n",
    "- Why? Split code into smaller, more manageable files\n"
   ],
   "metadata": {},
   "attachments": {}
  },
  {
   "cell_type": "markdown",
   "source": [
    "\n",
    "<font size = \"5\">\n",
    "\n",
    "<table><tr>\n",
    "<td style = \"border:0px\"> <img src=\"figures/screenshot_py_functions.png\" alt=\"drawing\" width=\"300\"/>  </td>\n",
    "<td style = \"border:0px\">\n",
    "\n",
    "File with functions\n",
    "\n",
    " </td>\n",
    "</tr></table>\n"
   ],
   "metadata": {},
   "attachments": {}
  },
  {
   "cell_type": "markdown",
   "source": [
    "<font size = \"5\">\n",
    "\n",
    "\n",
    "You can reference Python scripts \"as if\" you were running them <br>\n",
    "from the Jupyter notebook\n",
    "\n",
    "- Can help break down big projects into smaller chunks\n",
    "- Keep things organized in subfolders\n",
    "- Interact with variables in the current environment"
   ],
   "metadata": {}
  },
  {
   "cell_type": "code",
   "execution_count": 94,
   "source": [
    "# Check the script in the subfolder\n",
    "\n",
    "message = \"hello\"\n",
    "exec(open(\"./scripts/example_script.py\").read())\n",
    "message_output\n"
   ],
   "outputs": [
    {
     "output_type": "execute_result",
     "data": {
      "text/plain": [
       "'This is a message: hello'"
      ]
     },
     "metadata": {},
     "execution_count": 94
    }
   ],
   "metadata": {}
  },
  {
   "cell_type": "markdown",
   "source": [
    "<font size = \"5\">\n",
    "\n",
    "**A module is just a Python program that ends with <br>\n",
    ".py extension and a folder that contains a <br>\n",
    " module becomes a package!**"
   ],
   "metadata": {}
  },
  {
   "cell_type": "markdown",
   "source": [
    "<font size = \"5\">\n",
    "\n",
    "We can import functions into the working <br>\n",
    "environment from a file\n",
    "\n",
    "- When you input code this way it won't interact with variables <br>\n",
    "in the current environment\n",
    "- Best reserved for functions or parameter values\n",
    "- Not for code that needs to interact with things you <br>\n",
    "defined in the current environment"
   ],
   "metadata": {}
  },
  {
   "cell_type": "code",
   "execution_count": 95,
   "source": [
    "import scripts.example_functions as ef"
   ],
   "outputs": [],
   "metadata": {}
  },
  {
   "cell_type": "markdown",
   "source": [
    "<font size = \"5\">\n",
    "\n",
    "We reference them using the alias"
   ],
   "metadata": {}
  },
  {
   "cell_type": "code",
   "execution_count": 96,
   "source": [
    "x = 1\n",
    "print(ef.fn_quadratic(1))\n",
    "print(ef.fn_quadratic(5))\n",
    "\n",
    "ef.message_hello(\"Juan\")"
   ],
   "outputs": [
    {
     "output_type": "stream",
     "name": "stdout",
     "text": [
      "1\n",
      "25\n"
     ]
    },
    {
     "output_type": "execute_result",
     "data": {
      "text/plain": [
       "'hi Juan'"
      ]
     },
     "metadata": {},
     "execution_count": 96
    }
   ],
   "metadata": {}
  },
  {
   "cell_type": "markdown",
   "source": [
    "\n",
    "<font size = \"5\">\n",
    "\n",
    "<table><tr>\n",
    "<td style = \"border:0px\"> <img src=\"figures/screenshot_py_variables.png\" alt=\"drawing\" width=\"300\"/>  </td>\n",
    "<td style = \"border:0px\">\n",
    "\n",
    "File with variables\n",
    "\n",
    "- Storing values/settings\n",
    "- Variables are global <br>\n",
    "(can be referenced later)\n",
    "\n",
    "</td>\n",
    "</tr></table>"
   ],
   "metadata": {},
   "attachments": {}
  },
  {
   "cell_type": "markdown",
   "source": [
    "<font size = \"5\">\n",
    "\n",
    "We can also import and reference variables"
   ],
   "metadata": {}
  },
  {
   "cell_type": "code",
   "execution_count": 1,
   "source": [
    "import scripts.example_variables as ev"
   ],
   "outputs": [],
   "metadata": {}
  },
  {
   "cell_type": "code",
   "execution_count": null,
   "source": [
    "# When we run this program\n",
    "# # the value of alpha will be overwritten\n",
    "\n",
    "alpha = 1\n",
    "print(alpha)\n",
    "print(ev.alpha)"
   ],
   "outputs": [],
   "metadata": {}
  }
 ],
 "metadata": {
  "kernelspec": {
   "name": "python3",
   "display_name": "Python 3.11.1 64-bit"
  },
  "language_info": {
   "codemirror_mode": {
    "name": "ipython",
    "version": 3
   },
   "file_extension": ".py",
   "mimetype": "text/x-python",
   "name": "python",
   "nbconvert_exporter": "python",
   "pygments_lexer": "ipython3",
   "version": "3.11.1"
  },
  "orig_nbformat": 4,
  "vscode": {
   "interpreter": {
    "hash": "45fc1f684f6f416f40889115beff3ddf69879b64cf4bfee48cb72a61e9d15d1a"
   }
  },
  "interpreter": {
   "hash": "aee8b7b246df8f9039afb4144a1f6fd8d2ca17a180786b69acc140d282b71a49"
  }
 },
 "nbformat": 4,
 "nbformat_minor": 2
}